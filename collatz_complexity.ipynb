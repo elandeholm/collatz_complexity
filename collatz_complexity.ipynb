{
 "cells": [
  {
   "cell_type": "code",
   "execution_count": 1,
   "id": "00174310-e930-4356-94fc-8c9d5c044400",
   "metadata": {
    "tags": []
   },
   "outputs": [],
   "source": [
    "def collatz(x):\n",
    "    while True:\n",
    "        yield x\n",
    "        if x == 1:\n",
    "            return\n",
    "        else:\n",
    "            if x % 2:\n",
    "                x = 3 * x + 1\n",
    "            else:\n",
    "                x = x // 2"
   ]
  },
  {
   "cell_type": "code",
   "execution_count": 19,
   "id": "f834c5cc-9444-43e3-bdc4-c2656a191f93",
   "metadata": {
    "tags": []
   },
   "outputs": [],
   "source": [
    "def collatz_complexity(n):\n",
    "    l = list(filter(lambda x: x != n and x % 3 != 2 and x != 1, collatz(n)))\n",
    "    return [ len(l), list(reversed(l)) ]"
   ]
  },
  {
   "cell_type": "code",
   "execution_count": 20,
   "id": "894f11a1-f046-4de6-be13-cadb3d03ff57",
   "metadata": {
    "tags": []
   },
   "outputs": [
    {
     "name": "stdout",
     "output_type": "stream",
     "text": [
      "[0, 0, 3, 0, 2, 4, 8, 1, 10, 2, 7, 5, 4, 9, 8, 1, 6, 11, 10, 3, 3, 7, 7, 6, 12, 5, 61, 9, 9, 9, 58, 2, 14, 6, 6, 12, 11, 11, 18, 3, 60, 4, 16, 8, 8, 7, 57, 7, 13, 13, 12, 5, 5, 62, 61, 10, 18, 9, 17, 10, 9, 59, 58, 2, 15, 15, 14, 7, 7, 6, 56, 13, 63, 12, 7, 11, 11, 19, 18, 4, 11, 60, 60, 5, 4, 17, 16, 8, 16, 9, 50, 8, 8, 57, 57, 8, 65, 14, 13]\n"
     ]
    }
   ],
   "source": [
    "print([ collatz_complexity(x)[0] for x in range(1, 100) ])"
   ]
  },
  {
   "cell_type": "code",
   "execution_count": 21,
   "id": "afd88ef4-3daf-4d4d-87e5-4a69e56b1bbc",
   "metadata": {
    "tags": []
   },
   "outputs": [
    {
     "data": {
      "text/plain": [
       "[4, [4, 16, 10, 40]]"
      ]
     },
     "execution_count": 21,
     "metadata": {},
     "output_type": "execute_result"
    }
   ],
   "source": [
    "collatz_complexity(13)"
   ]
  },
  {
   "cell_type": "code",
   "execution_count": null,
   "id": "110b00ef-30ac-45e0-b77b-b70760fef3f6",
   "metadata": {},
   "outputs": [],
   "source": []
  }
 ],
 "metadata": {
  "kernelspec": {
   "display_name": "Python 3 (ipykernel)",
   "language": "python",
   "name": "python3"
  },
  "language_info": {
   "codemirror_mode": {
    "name": "ipython",
    "version": 3
   },
   "file_extension": ".py",
   "mimetype": "text/x-python",
   "name": "python",
   "nbconvert_exporter": "python",
   "pygments_lexer": "ipython3",
   "version": "3.11.3"
  }
 },
 "nbformat": 4,
 "nbformat_minor": 5
}
