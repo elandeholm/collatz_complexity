{
 "cells": [
  {
   "cell_type": "code",
   "execution_count": 1,
   "id": "00174310-e930-4356-94fc-8c9d5c044400",
   "metadata": {
    "tags": []
   },
   "outputs": [],
   "source": [
    "def collatz(x):\n",
    "    while True:\n",
    "        yield x\n",
    "        if x == 1:\n",
    "            cont = False\n",
    "        else:\n",
    "            if x % 2:\n",
    "                x = 3 * x + 1\n",
    "            else:\n",
    "                x = x // 2"
   ]
  },
  {
   "cell_type": "code",
   "execution_count": 2,
   "id": "f834c5cc-9444-43e3-bdc4-c2656a191f93",
   "metadata": {
    "tags": []
   },
   "outputs": [],
   "source": [
    "def collatz_complexity(n):\n",
    "    l = list(filter(lambda x: x % 3 != 2 and x != 1, collatz(n)))\n",
    "    return len(l), l"
   ]
  },
  {
   "cell_type": "code",
   "execution_count": 4,
   "id": "894f11a1-f046-4de6-be13-cadb3d03ff57",
   "metadata": {
    "tags": []
   },
   "outputs": [
    {
     "name": "stdout",
     "output_type": "stream",
     "text": [
      "[0, 0, 4, 1, 2, 5, 9, 1, 11, 3, 7, 6, 5, 9, 9, 2, 6, 12, 11, 3, 4, 8, 7, 7, 13, 5, 62, 10, 9, 10, 59, 2, 15, 7, 6, 13, 12, 11, 19, 4, 60, 5, 17, 8, 9, 8, 57, 8, 14]\n"
     ]
    }
   ],
   "source": [
    "print([ len(list(collatz_complexity(x)[1])) for x in range(1, 50) ])"
   ]
  },
  {
   "cell_type": "code",
   "execution_count": null,
   "id": "cc1f4e33-0c42-4656-b9c4-9d5dcc3d3da6",
   "metadata": {},
   "outputs": [],
   "source": []
  }
 ],
 "metadata": {
  "kernelspec": {
   "display_name": "Python 3 (ipykernel)",
   "language": "python",
   "name": "python3"
  },
  "language_info": {
   "codemirror_mode": {
    "name": "ipython",
    "version": 3
   },
   "file_extension": ".py",
   "mimetype": "text/x-python",
   "name": "python",
   "nbconvert_exporter": "python",
   "pygments_lexer": "ipython3",
   "version": "3.11.3"
  }
 },
 "nbformat": 4,
 "nbformat_minor": 5
}
