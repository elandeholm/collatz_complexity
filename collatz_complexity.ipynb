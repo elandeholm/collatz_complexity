{
 "cells": [
  {
   "cell_type": "code",
   "execution_count": 1,
   "id": "00174310-e930-4356-94fc-8c9d5c044400",
   "metadata": {
    "tags": []
   },
   "outputs": [],
   "source": [
    "def collatz(x):\n",
    "    while True:\n",
    "        yield x\n",
    "        if x == 1:\n",
    "            return\n",
    "        else:\n",
    "            if x % 2:\n",
    "                x = 3 * x + 1\n",
    "            else:\n",
    "                x = x // 2"
   ]
  },
  {
   "cell_type": "code",
   "execution_count": 2,
   "id": "f834c5cc-9444-43e3-bdc4-c2656a191f93",
   "metadata": {
    "tags": []
   },
   "outputs": [],
   "source": [
    "def collatz_complexity(n):\n",
    "    l = list(filter(lambda x: x % 2 == 1 and x != 1, collatz(n)))\n",
    "    return [ len(l), list(reversed(l)) ]"
   ]
  },
  {
   "cell_type": "code",
   "execution_count": 3,
   "id": "585ac11c-eed4-44c2-b297-4c9ef24adfe4",
   "metadata": {},
   "outputs": [],
   "source": [
    "def ztalloc_complexity(n):\n",
    "    l = list(filter(lambda x: x != n and x % 3 == 1 and x != 1, collatz(n)))\n",
    "    return [ len(l), list(reversed(l)) ]"
   ]
  },
  {
   "cell_type": "code",
   "execution_count": 4,
   "id": "37b706e9-a311-49cd-8667-1a2902770268",
   "metadata": {},
   "outputs": [
    {
     "name": "stdout",
     "output_type": "stream",
     "text": [
      "[0, 0, 2, 0, 1, 2, 5, 0, 6, 1, 4, 2, 2, 5, 5, 0, 3, 6, 6, 1, 1, 4, 4, 2, 7, 2, 41, 5, 5, 5, 39, 0, 8, 3, 3, 6, 6, 6, 11, 1, 40, 1, 9, 4, 4, 4, 38, 2, 7, 7, 7, 2, 2, 41, 41, 5, 10, 5, 10, 5, 5, 39, 39, 0, 8, 8, 8, 3, 3, 3, 37, 6, 42, 6, 3, 6, 6, 11, 11, 1, 6, 40, 40, 1, 1, 9, 9, 4, 9, 4, 33, 4, 4, 38, 38, 2, 43, 7, 7]\n"
     ]
    }
   ],
   "source": [
    "print([ collatz_complexity(x)[0] for x in range(1, 100) ])"
   ]
  },
  {
   "cell_type": "code",
   "execution_count": 5,
   "id": "894f11a1-f046-4de6-be13-cadb3d03ff57",
   "metadata": {
    "tags": []
   },
   "outputs": [
    {
     "name": "stdout",
     "output_type": "stream",
     "text": [
      "[0, 0, 3, 0, 2, 3, 8, 1, 10, 2, 7, 3, 4, 9, 8, 1, 6, 10, 10, 3, 3, 7, 7, 3, 12, 5, 61, 9, 9, 8, 58, 2, 14, 6, 6, 10, 11, 11, 18, 3, 60, 3, 16, 8, 8, 7, 57, 3, 13, 13, 12, 5, 5, 61, 61, 10, 18, 9, 17, 8, 9, 59, 58, 2, 15, 14, 14, 7, 7, 6, 56, 10, 63, 12, 7, 11, 11, 18, 18, 4, 11, 60, 60, 3, 4, 17, 16, 8, 16, 8, 50, 8, 8, 57, 57, 3, 65, 14, 13]\n"
     ]
    }
   ],
   "source": [
    "print([ ztalloc_complexity(x)[0] for x in range(1, 100) ])"
   ]
  },
  {
   "cell_type": "code",
   "execution_count": 8,
   "id": "110b00ef-30ac-45e0-b77b-b70760fef3f6",
   "metadata": {},
   "outputs": [
    {
     "data": {
      "text/plain": [
       "[2, [5, 3]]"
      ]
     },
     "execution_count": 8,
     "metadata": {},
     "output_type": "execute_result"
    }
   ],
   "source": [
    "collatz_complexity(6)"
   ]
  },
  {
   "cell_type": "code",
   "execution_count": 9,
   "id": "afd88ef4-3daf-4d4d-87e5-4a69e56b1bbc",
   "metadata": {
    "tags": []
   },
   "outputs": [
    {
     "data": {
      "text/plain": [
       "[3, [4, 16, 10]]"
      ]
     },
     "execution_count": 9,
     "metadata": {},
     "output_type": "execute_result"
    }
   ],
   "source": [
    "ztalloc_complexity(6)"
   ]
  },
  {
   "cell_type": "code",
   "execution_count": null,
   "id": "781403c0-38c7-4fc8-bec8-9894a2adb4a6",
   "metadata": {},
   "outputs": [],
   "source": []
  }
 ],
 "metadata": {
  "kernelspec": {
   "display_name": "Python 3 (ipykernel)",
   "language": "python",
   "name": "python3"
  },
  "language_info": {
   "codemirror_mode": {
    "name": "ipython",
    "version": 3
   },
   "file_extension": ".py",
   "mimetype": "text/x-python",
   "name": "python",
   "nbconvert_exporter": "python",
   "pygments_lexer": "ipython3",
   "version": "3.11.3"
  }
 },
 "nbformat": 4,
 "nbformat_minor": 5
}
